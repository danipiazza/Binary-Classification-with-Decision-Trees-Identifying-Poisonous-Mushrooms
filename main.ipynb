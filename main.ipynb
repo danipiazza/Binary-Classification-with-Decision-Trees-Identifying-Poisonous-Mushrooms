{
 "cells": [
  {
   "cell_type": "code",
   "execution_count": 1,
   "metadata": {},
   "outputs": [],
   "source": [
    "from tuning import train_test_split, hyperparameter_tuning, hyperparameter_tuning_cv\n",
    "from performance import print_report\n",
    "from ucimlrepo import fetch_ucirepo \n",
    "from DecisionTree import DecisionTree\n",
    "from RandomForest import RandomForest"
   ]
  },
  {
   "cell_type": "code",
   "execution_count": 2,
   "metadata": {},
   "outputs": [],
   "source": [
    "# fetch dataset from ucimlrepo\n",
    "secondary_mushroom = fetch_ucirepo(id=848) \n",
    "# data (as pandas dataframes) \n",
    "X = secondary_mushroom.data.features # features of the dataset\n",
    "y = secondary_mushroom.data.targets  # target values of the dataset"
   ]
  },
  {
   "cell_type": "code",
   "execution_count": 3,
   "metadata": {},
   "outputs": [
    {
     "name": "stdout",
     "output_type": "stream",
     "text": [
      "<class 'pandas.core.frame.DataFrame'>\n",
      "RangeIndex: 61069 entries, 0 to 61068\n",
      "Data columns (total 20 columns):\n",
      " #   Column                Non-Null Count  Dtype  \n",
      "---  ------                --------------  -----  \n",
      " 0   cap-diameter          61069 non-null  float64\n",
      " 1   cap-shape             61069 non-null  object \n",
      " 2   cap-surface           46949 non-null  object \n",
      " 3   cap-color             61069 non-null  object \n",
      " 4   does-bruise-or-bleed  61069 non-null  object \n",
      " 5   gill-attachment       51185 non-null  object \n",
      " 6   gill-spacing          36006 non-null  object \n",
      " 7   gill-color            61069 non-null  object \n",
      " 8   stem-height           61069 non-null  float64\n",
      " 9   stem-width            61069 non-null  float64\n",
      " 10  stem-root             9531 non-null   object \n",
      " 11  stem-surface          22945 non-null  object \n",
      " 12  stem-color            61069 non-null  object \n",
      " 13  veil-type             3177 non-null   object \n",
      " 14  veil-color            7413 non-null   object \n",
      " 15  has-ring              61069 non-null  object \n",
      " 16  ring-type             58598 non-null  object \n",
      " 17  spore-print-color     6354 non-null   object \n",
      " 18  habitat               61069 non-null  object \n",
      " 19  season                61069 non-null  object \n",
      "dtypes: float64(3), object(17)\n",
      "memory usage: 9.3+ MB\n"
     ]
    }
   ],
   "source": [
    "X.info()"
   ]
  },
  {
   "cell_type": "code",
   "execution_count": 4,
   "metadata": {},
   "outputs": [
    {
     "data": {
      "text/plain": [
       "class\n",
       "p        0.554913\n",
       "e        0.445087\n",
       "Name: proportion, dtype: float64"
      ]
     },
     "execution_count": 4,
     "metadata": {},
     "output_type": "execute_result"
    }
   ],
   "source": [
    "# let's see if the dataset is balanced\n",
    "y.value_counts(normalize=True)"
   ]
  },
  {
   "cell_type": "code",
   "execution_count": 5,
   "metadata": {},
   "outputs": [],
   "source": [
    "# Define all mappings for the categorical features from the documentation of the dataset\n",
    "cap_shape_mapping = {\n",
    "    'b': 'bell', 'c': 'conical', 'x': 'convex', 'f': 'flat',\n",
    "    's': 'sunken', 'p': 'spherical', 'o': 'others'\n",
    "}\n",
    "\n",
    "cap_surface_mapping = {\n",
    "    'i': 'fibrous', 'g': 'grooves', 'y': 'scaly', 's': 'smooth',\n",
    "    'h': 'shiny', 'l': 'leathery', 'k': 'silky', 't': 'sticky',\n",
    "    'w': 'wrinkled', 'e': 'fleshy'\n",
    "}\n",
    "\n",
    "cap_color_mapping = {\n",
    "    'n': 'brown', 'b': 'buff', 'g': 'gray', 'r': 'green',\n",
    "    'p': 'pink', 'u': 'purple', 'e': 'red', 'w': 'white',\n",
    "    'y': 'yellow', 'l': 'blue', 'o': 'orange', 'k': 'black'\n",
    "}\n",
    "\n",
    "does_bruise_bleed_mapping = {'t': 'true', 'f': 'false'}\n",
    "\n",
    "gill_attachment_mapping = {\n",
    "    'a': 'adnate', 'x': 'adnexed', 'd': 'decurrent', 'e': 'free',\n",
    "    's': 'sinuate', 'p': 'pores', 'f': 'none', '?': 'unknown'\n",
    "}\n",
    "\n",
    "gill_spacing_mapping = {'c': 'close', 'd': 'distant', 'f': 'none'}\n",
    "\n",
    "# Same colors as cap_color_mapping + 'f': 'none'\n",
    "gill_color_mapping = {**cap_color_mapping, 'f': 'none'}\n",
    "\n",
    "stem_root_mapping = {\n",
    "    'b': 'bulbous', 's': 'swollen', 'c': 'club', 'u': 'cup',\n",
    "    'e': 'equal', 'z': 'rhizomorphs', 'r': 'rooted', 'f': 'none'\n",
    "}\n",
    "\n",
    "stem_surface_mapping = {**cap_surface_mapping, 'f': 'none'}  # Same mapping as cap-surface + 'f'\n",
    "stem_color_mapping = gill_color_mapping # Same mapping as gill-color\n",
    "\n",
    "veil_type_mapping = {'p': 'partial', 'u': 'universal'}\n",
    "\n",
    "veil_color_mapping = gill_color_mapping\n",
    "\n",
    "has_ring_mapping = {'t': 'true', 'f': 'false'}\n",
    "\n",
    "ring_type_mapping = {\n",
    "    'c': 'cobwebby', 'e': 'evanescent', 'r': 'flaring', 'g': 'grooved',\n",
    "    'l': 'large', 'p': 'pendant', 's': 'sheathing', 'z': 'zone',\n",
    "    'y': 'scaly', 'm': 'movable', 'f': 'none', '?': 'unknown'\n",
    "}\n",
    "\n",
    "spore_print_color_mapping = cap_color_mapping  # Same mapping as cap-color\n",
    "\n",
    "habitat_mapping = {\n",
    "    'g': 'grasses', 'l': 'leaves', 'm': 'meadows', 'p': 'paths',\n",
    "    'h': 'heaths', 'u': 'urban', 'w': 'waste', 'd': 'woods'\n",
    "}\n",
    "\n",
    "season_mapping = {'s': 'spring', 'u': 'summer', 'a': 'autumn', 'w': 'winter'}\n",
    "\n",
    "X.loc[:, 'cap-shape'] = X['cap-shape'].replace(cap_shape_mapping)\n",
    "X.loc[:, 'cap-surface'] = X['cap-surface'].replace(cap_surface_mapping)\n",
    "X.loc[:, 'cap-color'] = X['cap-color'].replace(cap_color_mapping)\n",
    "X.loc[:, 'does-bruise-or-bleed'] = X['does-bruise-or-bleed'].replace(does_bruise_bleed_mapping)\n",
    "X.loc[:, 'gill-attachment'] = X['gill-attachment'].replace(gill_attachment_mapping)\n",
    "X.loc[:, 'gill-spacing'] = X['gill-spacing'].replace(gill_spacing_mapping)\n",
    "X.loc[:, 'gill-color'] = X['gill-color'].replace(gill_color_mapping)\n",
    "X.loc[:, 'stem-root'] = X['stem-root'].replace(stem_root_mapping)\n",
    "X.loc[:, 'stem-surface'] = X['stem-surface'].replace(stem_surface_mapping)\n",
    "X.loc[:, 'stem-color'] = X['stem-color'].replace(stem_color_mapping)\n",
    "X.loc[:, 'veil-type'] = X['veil-type'].replace(veil_type_mapping)\n",
    "X.loc[:, 'veil-color'] = X['veil-color'].replace(veil_color_mapping)\n",
    "X.loc[:, 'has-ring'] = X['has-ring'].replace(has_ring_mapping)\n",
    "X.loc[:, 'ring-type'] = X['ring-type'].replace(ring_type_mapping)\n",
    "X.loc[:, 'spore-print-color'] = X['spore-print-color'].replace(spore_print_color_mapping)\n",
    "X.loc[:, 'habitat'] = X['habitat'].replace(habitat_mapping)\n",
    "X.loc[:, 'season'] = X['season'].replace(season_mapping)"
   ]
  },
  {
   "cell_type": "code",
   "execution_count": 6,
   "metadata": {},
   "outputs": [],
   "source": [
    "y = y['class']\n",
    "y = y.map({'p': 'poisonous', 'e': \"edible\"})"
   ]
  },
  {
   "cell_type": "code",
   "execution_count": 7,
   "metadata": {},
   "outputs": [
    {
     "name": "stdout",
     "output_type": "stream",
     "text": [
      "cap-diameter: [15.26 16.6  14.07 ... 22.85 21.8  20.42]\n",
      "cap-shape: ['convex' 'flat' 'spherical' 'bell' 'conical' 'sunken' 'others']\n",
      "cap-surface: ['grooves' 'shiny' nan 'sticky' 'scaly' 'fleshy' 'smooth' 'leathery' 'd'\n",
      " 'wrinkled' 'fibrous' 'silky']\n",
      "cap-color: ['orange' 'red' 'brown' 'gray' 'green' 'white' 'yellow' 'pink' 'purple'\n",
      " 'buff' 'blue' 'black']\n",
      "does-bruise-or-bleed: ['false' 'true']\n",
      "gill-attachment: ['free' nan 'adnate' 'decurrent' 'sinuate' 'adnexed' 'pores' 'none']\n",
      "gill-spacing: [nan 'close' 'distant' 'none']\n",
      "gill-color: ['white' 'brown' 'pink' 'purple' 'buff' 'gray' 'yellow' 'green' 'red'\n",
      " 'orange' 'black' 'none']\n",
      "stem-height: [16.95 17.99 17.8  ...  1.23  1.16  0.  ]\n",
      "stem-width: [17.09 18.19 17.74 ... 32.59 30.99 30.51]\n",
      "stem-root: ['swollen' nan 'bulbous' 'rooted' 'club' 'none']\n",
      "stem-surface: ['scaly' nan 'smooth' 'silky' 'fibrous' 'shiny' 'sticky' 'grooves' 'none']\n",
      "stem-color: ['white' 'yellow' 'brown' 'purple' 'buff' 'blue' 'green' 'pink' 'red'\n",
      " 'black' 'gray' 'orange' 'none']\n",
      "veil-type: ['universal' nan]\n",
      "veil-color: ['white' 'yellow' nan 'brown' 'red' 'purple' 'black']\n",
      "has-ring: ['true' 'false']\n",
      "ring-type: ['grooved' 'pendant' 'evanescent' 'large' 'none' 'movable' nan 'flaring'\n",
      " 'zone']\n",
      "spore-print-color: [nan 'white' 'pink' 'black' 'green' 'purple' 'brown' 'gray']\n",
      "habitat: ['woods' 'meadows' 'grasses' 'heaths' 'leaves' 'paths' 'waste' 'urban']\n",
      "season: ['winter' 'summer' 'autumn' 'spring']\n"
     ]
    }
   ],
   "source": [
    "for col in X.columns:\n",
    "    print(f\"{col}: {X[col].unique()}\")"
   ]
  },
  {
   "cell_type": "markdown",
   "metadata": {},
   "source": [
    "### No 'unknown' but there are some 'none' in the dataset that we have to manage (see comments in the code below)\n",
    "#### After searching about mushrooms, I found that 'none' is not a missing value, it is a valid value for some features"
   ]
  },
  {
   "cell_type": "code",
   "execution_count": 8,
   "metadata": {},
   "outputs": [],
   "source": [
    "# for every column substitute 'none' with null value\n",
    "#for col in X.columns:\n",
    "   #X.loc[:,col] = X[col].replace('none', np.nan)"
   ]
  },
  {
   "cell_type": "code",
   "execution_count": 9,
   "metadata": {},
   "outputs": [],
   "source": [
    "#for col in X.columns:\n",
    "    #print(f\"{col}: {X[col].unique()}\")"
   ]
  },
  {
   "cell_type": "markdown",
   "metadata": {},
   "source": [
    "### For the attribute cap-surface there is a value \"d\" which is not present in the documentation. I keep it but maybe could be a typo."
   ]
  },
  {
   "cell_type": "code",
   "execution_count": 10,
   "metadata": {},
   "outputs": [],
   "source": [
    "X_train, X_test, y_train, y_test = train_test_split(X, y, test_size=0.2)"
   ]
  },
  {
   "cell_type": "code",
   "execution_count": 11,
   "metadata": {},
   "outputs": [
    {
     "name": "stdout",
     "output_type": "stream",
     "text": [
      "stem-root: 84.40% missing values\n",
      "veil-type: 94.67% missing values\n",
      "veil-color: 87.83% missing values\n",
      "spore-print-color: 89.60% missing values\n"
     ]
    }
   ],
   "source": [
    "# Get the column with more than 80% of missing values\n",
    "missing_values = X_train.isnull().mean()\n",
    "missing_values = missing_values[missing_values > 0.8] * 100\n",
    "for col, percentage in missing_values.items():\n",
    "    print(f\"{col}: {percentage:.2f}% missing values\")"
   ]
  },
  {
   "cell_type": "code",
   "execution_count": 12,
   "metadata": {},
   "outputs": [],
   "source": [
    "# Drop the column with more than 80% of missing values\n",
    "X_train = X_train.drop(columns=missing_values.index)\n",
    "X_test = X_test.drop(columns=missing_values.index)\n",
    "\n",
    "y_train = y_train.loc[X_train.index]\n",
    "y_test = y_test.loc[X_test.index]"
   ]
  },
  {
   "cell_type": "code",
   "execution_count": 13,
   "metadata": {},
   "outputs": [],
   "source": [
    "# Fill null values with median and mode (avoid data leakage)\n",
    "for col in X_train.columns:\n",
    "    if X_train[col].dtype == 'object':\n",
    "        new_val = X_train[col].mode()[0]\n",
    "    else:\n",
    "        new_val = X_train[col].median() # We don't have missing values in numerical columns in this dataset\n",
    "    X_train.loc[:, col] = X_train[col].fillna(new_val)\n",
    "    X_test.loc[:, col] = X_test[col].fillna(new_val)"
   ]
  },
  {
   "cell_type": "code",
   "execution_count": 14,
   "metadata": {},
   "outputs": [
    {
     "name": "stdout",
     "output_type": "stream",
     "text": [
      "cap-diameter: cap-diameter\n",
      "3.18     87\n",
      "3.13     80\n",
      "3.24     79\n",
      "4.04     79\n",
      "3.97     77\n",
      "         ..\n",
      "50.60     1\n",
      "54.03     1\n",
      "57.76     1\n",
      "57.08     1\n",
      "20.80     1\n",
      "Name: count, Length: 2458, dtype: int64\n",
      "cap-shape: cap-shape\n",
      "convex       21482\n",
      "flat         10735\n",
      "sunken        5713\n",
      "bell          4580\n",
      "others        2813\n",
      "spherical     2090\n",
      "conical       1443\n",
      "Name: count, dtype: int64\n",
      "cap-surface: cap-surface\n",
      "sticky      17858\n",
      "smooth       6094\n",
      "scaly        5085\n",
      "shiny        3960\n",
      "grooves      3791\n",
      "d            3542\n",
      "fleshy       2071\n",
      "silky        1843\n",
      "fibrous      1758\n",
      "wrinkled     1724\n",
      "leathery     1130\n",
      "Name: count, dtype: int64\n",
      "cap-color: cap-color\n",
      "brown     19400\n",
      "yellow     6841\n",
      "white      6149\n",
      "gray       3490\n",
      "red        3225\n",
      "orange     2943\n",
      "green      1429\n",
      "pink       1391\n",
      "purple     1370\n",
      "black       999\n",
      "buff        969\n",
      "blue        650\n",
      "Name: count, dtype: int64\n",
      "does-bruise-or-bleed: does-bruise-or-bleed\n",
      "false    40425\n",
      "true      8431\n",
      "Name: count, dtype: int64\n",
      "gill-attachment: gill-attachment\n",
      "adnate       18063\n",
      "decurrent     8184\n",
      "adnexed       5916\n",
      "pores         4782\n",
      "sinuate       4561\n",
      "free          4525\n",
      "none          2825\n",
      "Name: count, dtype: int64\n",
      "gill-spacing: gill-spacing\n",
      "close      39811\n",
      "distant     6220\n",
      "none        2825\n",
      "Name: count, dtype: int64\n",
      "gill-color: gill-color\n",
      "white     14879\n",
      "brown      7716\n",
      "yellow     7655\n",
      "pink       4738\n",
      "gray       3310\n",
      "none       2825\n",
      "orange     2312\n",
      "black      1909\n",
      "green      1134\n",
      "red         825\n",
      "purple      807\n",
      "buff        746\n",
      "Name: count, dtype: int64\n",
      "stem-height: stem-height\n",
      "0.00     849\n",
      "5.92     119\n",
      "5.32     117\n",
      "5.24     114\n",
      "6.03     114\n",
      "        ... \n",
      "22.98      1\n",
      "18.85      1\n",
      "17.76      1\n",
      "26.85      1\n",
      "24.68      1\n",
      "Name: count, Length: 2135, dtype: int64\n",
      "stem-width: stem-width\n",
      "0.00     849\n",
      "2.45      85\n",
      "2.47      78\n",
      "2.56      77\n",
      "2.49      75\n",
      "        ... \n",
      "63.38      1\n",
      "51.57      1\n",
      "37.23      1\n",
      "34.27      1\n",
      "45.77      1\n",
      "Name: count, Length: 4412, dtype: int64\n",
      "stem-surface: stem-surface\n",
      "smooth     35337\n",
      "scaly       4001\n",
      "fibrous     3470\n",
      "sticky      2102\n",
      "grooves     1415\n",
      "silky       1263\n",
      "none         849\n",
      "shiny        419\n",
      "Name: count, dtype: int64\n",
      "stem-color: stem-color\n",
      "white     18445\n",
      "brown     14411\n",
      "yellow     6283\n",
      "gray       2071\n",
      "orange     1762\n",
      "red        1603\n",
      "purple     1167\n",
      "none        849\n",
      "pink        837\n",
      "black       676\n",
      "green       430\n",
      "blue        182\n",
      "buff        140\n",
      "Name: count, dtype: int64\n",
      "has-ring: has-ring\n",
      "false    36565\n",
      "true     12291\n",
      "Name: count, dtype: int64\n",
      "ring-type: ring-type\n",
      "none          40561\n",
      "evanescent     1968\n",
      "zone           1735\n",
      "flaring        1145\n",
      "large          1127\n",
      "pendant        1031\n",
      "grooved        1003\n",
      "movable         286\n",
      "Name: count, dtype: int64\n",
      "habitat: habitat\n",
      "woods      35402\n",
      "grasses     6327\n",
      "leaves      2508\n",
      "meadows     2346\n",
      "heaths      1611\n",
      "waste        290\n",
      "paths        279\n",
      "urban         93\n",
      "Name: count, dtype: int64\n",
      "season: season\n",
      "autumn    24116\n",
      "summer    18323\n",
      "winter     4255\n",
      "spring     2162\n",
      "Name: count, dtype: int64\n"
     ]
    }
   ],
   "source": [
    "# For each attribute -> value count\n",
    "for col in X_train.columns:\n",
    "    print(f\"{col}: {X_train[col].value_counts()}\")"
   ]
  },
  {
   "cell_type": "markdown",
   "metadata": {},
   "source": [
    "### For stem-height and stem-width there are a 849 mushrooms with 0.0 value. I don't know if this is a typo or a real value. I will keep them."
   ]
  },
  {
   "cell_type": "code",
   "execution_count": 15,
   "metadata": {},
   "outputs": [
    {
     "name": "stdout",
     "output_type": "stream",
     "text": [
      "There are 107 duplicates in the training set out of 48856 rows\n"
     ]
    }
   ],
   "source": [
    "# show how many unique rows are in the dataset\n",
    "print(\"There are\", X_train.duplicated().sum(), \"duplicates in the training set out of\", len(X_train), \"rows\")"
   ]
  },
  {
   "cell_type": "code",
   "execution_count": 16,
   "metadata": {},
   "outputs": [],
   "source": [
    "# Drop duplicates to avoid overfitting\n",
    "X_train = X_train.drop_duplicates()\n",
    "y_train = y_train.loc[X_train.index]"
   ]
  },
  {
   "cell_type": "markdown",
   "metadata": {},
   "source": [
    "### For the decision tree is not necessary to scale the data. And it's robust to outliers."
   ]
  },
  {
   "cell_type": "code",
   "execution_count": 17,
   "metadata": {},
   "outputs": [],
   "source": [
    "tree = DecisionTree(max_depth=5, min_samples_split=100, criterion='gini')\n",
    "tree.fit(X_train, y_train)"
   ]
  },
  {
   "cell_type": "code",
   "execution_count": 18,
   "metadata": {},
   "outputs": [],
   "source": [
    "tree.draw_tree(\"small_tree\")"
   ]
  },
  {
   "cell_type": "code",
   "execution_count": 19,
   "metadata": {},
   "outputs": [
    {
     "name": "stdout",
     "output_type": "stream",
     "text": [
      "0-1 Loss: 0.26021452550560875\n",
      "Accuracy: 0.7397854744943912\n",
      "Precision: 0.8943179305770507\n",
      "Recall: 0.5997034840622684\n",
      "F1 Score: 0.717962371317004\n",
      "Confusion Matriy_pred:\n",
      "[[4045  478]\n",
      " [2700 4990]]\n"
     ]
    }
   ],
   "source": [
    "y_pred = tree.predict(X_test)\n",
    "print_report(y_test, y_pred, \"poisonous\")"
   ]
  },
  {
   "cell_type": "code",
   "execution_count": 20,
   "metadata": {},
   "outputs": [
    {
     "name": "stdout",
     "output_type": "stream",
     "text": [
      "Feature importance:\n",
      "cap-surface: 0.6351302309243709\n",
      "stem-height: 0.09702686132903368\n",
      "ring-type: 0.05444770201150856\n",
      "habitat: 0.043774125262295994\n",
      "cap-shape: 0.04177571132147216\n",
      "stem-color: 0.0400258072794253\n",
      "gill-spacing: 0.03364681628223551\n",
      "stem-width: 0.01570577537825507\n",
      "stem-surface: 0.014998276887692945\n",
      "cap-color: 0.013439131927992978\n",
      "does-bruise-or-bleed: 0.010029561395716754\n",
      "cap-diameter: 0.0\n",
      "gill-attachment: 0.0\n",
      "gill-color: 0.0\n",
      "has-ring: 0.0\n",
      "season: 0.0\n"
     ]
    }
   ],
   "source": [
    "tree.print_importance()"
   ]
  },
  {
   "cell_type": "code",
   "execution_count": 21,
   "metadata": {},
   "outputs": [
    {
     "data": {
      "image/png": "[encoded data removed]",
      "text/plain": [
       "<Figure size 640x480 with 1 Axes>"
      ]
     },
     "metadata": {},
     "output_type": "display_data"
    },
    {
     "data": {
      "image/png": "[encoded data removed]",
      "text/plain": [
       "<Figure size 640x480 with 1 Axes>"
      ]
     },
     "metadata": {},
     "output_type": "display_data"
    }
   ],
   "source": [
    "import matplotlib.pyplot as plt\n",
    "from performance import accuracy, zero_one_loss\n",
    "train_accs = []\n",
    "test_accs = []\n",
    "train_losses = []  \n",
    "test_losses = []\n",
    "for max_depth in range(1, 50):\n",
    "    tree = DecisionTree(max_depth=max_depth, criterion=\"gini\")\n",
    "    tree.fit(X_train, y_train)\n",
    "    y_pred = tree.predict(X_train)\n",
    "    train_accs.append(accuracy(y_train, y_pred))\n",
    "    train_losses.append(zero_one_loss(y_train, y_pred))\n",
    "    y_pred = tree.predict(X_test)\n",
    "    test_accs.append(accuracy(y_test, y_pred))\n",
    "    test_losses.append(zero_one_loss(y_test, y_pred))\n",
    "\n",
    "plt.plot(range(1, 50), train_accs, label=\"Train accuracy\")\n",
    "plt.plot(range(1, 50), test_accs, label=\"Test accuracy\")\n",
    "plt.xlabel(\"Max depth\")\n",
    "plt.ylabel(\"Accuracy\")\n",
    "plt.legend()\n",
    "plt.show()\n",
    "# Of course the loss is 1 - accuracy\n",
    "plt.plot(range(1, 50), train_losses, label=\"Train loss\")\n",
    "plt.plot(range(1, 50), test_losses, label=\"Test loss\")\n",
    "plt.xlabel(\"Max depth\")\n",
    "plt.ylabel(\"Loss\")\n",
    "plt.legend()\n",
    "plt.show()"
   ]
  },
  {
   "cell_type": "code",
   "execution_count": 21,
   "metadata": {},
   "outputs": [
    {
     "name": "stdout",
     "output_type": "stream",
     "text": [
      "Params:  {'max_depth': 10, 'min_samples_split': 2, 'min_impurity_decrease': 0.0, 'criterion': 'gini'} Loss:  0.07918760898553698\n",
      "Params:  {'max_depth': 10, 'min_samples_split': 2, 'min_impurity_decrease': 0.0, 'criterion': 'scaled_entropy'} Loss:  0.1541696584265053\n",
      "Params:  {'max_depth': 10, 'min_samples_split': 2, 'min_impurity_decrease': 0.0, 'criterion': 'squared'} Loss:  0.1895579033747051\n",
      "Params:  {'max_depth': 10, 'min_samples_split': 2, 'min_impurity_decrease': 0.01, 'criterion': 'gini'} Loss:  0.08072622833111089\n",
      "Params:  {'max_depth': 10, 'min_samples_split': 2, 'min_impurity_decrease': 0.01, 'criterion': 'scaled_entropy'} Loss:  0.1554005539029644\n",
      "Params:  {'max_depth': 10, 'min_samples_split': 2, 'min_impurity_decrease': 0.01, 'criterion': 'squared'} Loss:  0.27223304954354294\n",
      "Params:  {'max_depth': 10, 'min_samples_split': 5, 'min_impurity_decrease': 0.0, 'criterion': 'gini'} Loss:  0.07918760898553698\n",
      "Params:  {'max_depth': 10, 'min_samples_split': 5, 'min_impurity_decrease': 0.0, 'criterion': 'scaled_entropy'} Loss:  0.1541696584265053\n",
      "Params:  {'max_depth': 10, 'min_samples_split': 5, 'min_impurity_decrease': 0.0, 'criterion': 'squared'} Loss:  0.1895579033747051\n",
      "Params:  {'max_depth': 10, 'min_samples_split': 5, 'min_impurity_decrease': 0.01, 'criterion': 'gini'} Loss:  0.08072622833111089\n",
      "Params:  {'max_depth': 10, 'min_samples_split': 5, 'min_impurity_decrease': 0.01, 'criterion': 'scaled_entropy'} Loss:  0.1554005539029644\n",
      "Params:  {'max_depth': 10, 'min_samples_split': 5, 'min_impurity_decrease': 0.01, 'criterion': 'squared'} Loss:  0.27223304954354294\n",
      "Params:  {'max_depth': 10, 'min_samples_split': 10, 'min_impurity_decrease': 0.0, 'criterion': 'gini'} Loss:  0.07918760898553698\n",
      "Params:  {'max_depth': 10, 'min_samples_split': 10, 'min_impurity_decrease': 0.0, 'criterion': 'scaled_entropy'} Loss:  0.1541696584265053\n",
      "Params:  {'max_depth': 10, 'min_samples_split': 10, 'min_impurity_decrease': 0.0, 'criterion': 'squared'} Loss:  0.1895579033747051\n",
      "Params:  {'max_depth': 10, 'min_samples_split': 10, 'min_impurity_decrease': 0.01, 'criterion': 'gini'} Loss:  0.08072622833111089\n",
      "Params:  {'max_depth': 10, 'min_samples_split': 10, 'min_impurity_decrease': 0.01, 'criterion': 'scaled_entropy'} Loss:  0.1554005539029644\n",
      "Params:  {'max_depth': 10, 'min_samples_split': 10, 'min_impurity_decrease': 0.01, 'criterion': 'squared'} Loss:  0.27223304954354294\n",
      "Params:  {'max_depth': 10, 'min_samples_split': 100, 'min_impurity_decrease': 0.0, 'criterion': 'gini'} Loss:  0.07980305672376654\n",
      "Params:  {'max_depth': 10, 'min_samples_split': 100, 'min_impurity_decrease': 0.0, 'criterion': 'scaled_entropy'} Loss:  0.15529797927992614\n",
      "Params:  {'max_depth': 10, 'min_samples_split': 100, 'min_impurity_decrease': 0.0, 'criterion': 'squared'} Loss:  0.18966047799774335\n",
      "Params:  {'max_depth': 10, 'min_samples_split': 100, 'min_impurity_decrease': 0.01, 'criterion': 'gini'} Loss:  0.08134167606934045\n",
      "Params:  {'max_depth': 10, 'min_samples_split': 100, 'min_impurity_decrease': 0.01, 'criterion': 'scaled_entropy'} Loss:  0.15622115088727048\n",
      "Params:  {'max_depth': 10, 'min_samples_split': 100, 'min_impurity_decrease': 0.01, 'criterion': 'squared'} Loss:  0.27223304954354294\n",
      "Params:  {'max_depth': 20, 'min_samples_split': 2, 'min_impurity_decrease': 0.0, 'criterion': 'gini'} Loss:  0.004000410298492153\n",
      "Params:  {'max_depth': 20, 'min_samples_split': 2, 'min_impurity_decrease': 0.0, 'criterion': 'scaled_entropy'} Loss:  0.005333880397989537\n",
      "Params:  {'max_depth': 20, 'min_samples_split': 2, 'min_impurity_decrease': 0.0, 'criterion': 'squared'} Loss:  0.022156118576264233\n",
      "Params:  {'max_depth': 20, 'min_samples_split': 2, 'min_impurity_decrease': 0.01, 'criterion': 'gini'} Loss:  0.02133552159195815\n",
      "Params:  {'max_depth': 20, 'min_samples_split': 2, 'min_impurity_decrease': 0.01, 'criterion': 'scaled_entropy'} Loss:  0.006872499743563442\n",
      "Params:  {'max_depth': 20, 'min_samples_split': 2, 'min_impurity_decrease': 0.01, 'criterion': 'squared'} Loss:  0.2262796184224023\n",
      "Params:  {'max_depth': 20, 'min_samples_split': 5, 'min_impurity_decrease': 0.0, 'criterion': 'gini'} Loss:  0.004000410298492153\n",
      "Params:  {'max_depth': 20, 'min_samples_split': 5, 'min_impurity_decrease': 0.0, 'criterion': 'scaled_entropy'} Loss:  0.005436455021027797\n",
      "Params:  {'max_depth': 20, 'min_samples_split': 5, 'min_impurity_decrease': 0.0, 'criterion': 'squared'} Loss:  0.022156118576264233\n",
      "Params:  {'max_depth': 20, 'min_samples_split': 5, 'min_impurity_decrease': 0.01, 'criterion': 'gini'} Loss:  0.02133552159195815\n",
      "Params:  {'max_depth': 20, 'min_samples_split': 5, 'min_impurity_decrease': 0.01, 'criterion': 'scaled_entropy'} Loss:  0.006872499743563442\n",
      "Params:  {'max_depth': 20, 'min_samples_split': 5, 'min_impurity_decrease': 0.01, 'criterion': 'squared'} Loss:  0.2262796184224023\n",
      "Params:  {'max_depth': 20, 'min_samples_split': 10, 'min_impurity_decrease': 0.0, 'criterion': 'gini'} Loss:  0.004000410298492153\n",
      "Params:  {'max_depth': 20, 'min_samples_split': 10, 'min_impurity_decrease': 0.0, 'criterion': 'scaled_entropy'} Loss:  0.005436455021027797\n",
      "Params:  {'max_depth': 20, 'min_samples_split': 10, 'min_impurity_decrease': 0.0, 'criterion': 'squared'} Loss:  0.02236126782234075\n",
      "Params:  {'max_depth': 20, 'min_samples_split': 10, 'min_impurity_decrease': 0.01, 'criterion': 'gini'} Loss:  0.02133552159195815\n",
      "Params:  {'max_depth': 20, 'min_samples_split': 10, 'min_impurity_decrease': 0.01, 'criterion': 'scaled_entropy'} Loss:  0.006872499743563442\n",
      "Params:  {'max_depth': 20, 'min_samples_split': 10, 'min_impurity_decrease': 0.01, 'criterion': 'squared'} Loss:  0.2262796184224023\n",
      "Params:  {'max_depth': 20, 'min_samples_split': 100, 'min_impurity_decrease': 0.0, 'criterion': 'gini'} Loss:  0.010565186172940815\n",
      "Params:  {'max_depth': 20, 'min_samples_split': 100, 'min_impurity_decrease': 0.0, 'criterion': 'scaled_entropy'} Loss:  0.012001230895476458\n",
      "Params:  {'max_depth': 20, 'min_samples_split': 100, 'min_impurity_decrease': 0.0, 'criterion': 'squared'} Loss:  0.026259103497794645\n",
      "Params:  {'max_depth': 20, 'min_samples_split': 100, 'min_impurity_decrease': 0.01, 'criterion': 'gini'} Loss:  0.02451533490614422\n",
      "Params:  {'max_depth': 20, 'min_samples_split': 100, 'min_impurity_decrease': 0.01, 'criterion': 'scaled_entropy'} Loss:  0.012924402502820802\n",
      "Params:  {'max_depth': 20, 'min_samples_split': 100, 'min_impurity_decrease': 0.01, 'criterion': 'squared'} Loss:  0.22812596163709098\n",
      "Params:  {'max_depth': 50, 'min_samples_split': 2, 'min_impurity_decrease': 0.0, 'criterion': 'gini'} Loss:  0.002769514822033029\n",
      "Params:  {'max_depth': 50, 'min_samples_split': 2, 'min_impurity_decrease': 0.0, 'criterion': 'scaled_entropy'} Loss:  0.001538619345573905\n",
      "Params:  {'max_depth': 50, 'min_samples_split': 2, 'min_impurity_decrease': 0.0, 'criterion': 'squared'} Loss:  0.0013334700994973843\n",
      "Params:  {'max_depth': 50, 'min_samples_split': 2, 'min_impurity_decrease': 0.01, 'criterion': 'gini'} Loss:  0.02133552159195815\n",
      "Params:  {'max_depth': 50, 'min_samples_split': 2, 'min_impurity_decrease': 0.01, 'criterion': 'scaled_entropy'} Loss:  0.0032823879372243306\n",
      "Params:  {'max_depth': 50, 'min_samples_split': 2, 'min_impurity_decrease': 0.01, 'criterion': 'squared'} Loss:  0.21756077546415017\n",
      "Params:  {'max_depth': 50, 'min_samples_split': 5, 'min_impurity_decrease': 0.0, 'criterion': 'gini'} Loss:  0.002769514822033029\n",
      "Params:  {'max_depth': 50, 'min_samples_split': 5, 'min_impurity_decrease': 0.0, 'criterion': 'scaled_entropy'} Loss:  0.0017437685916504256\n",
      "Params:  {'max_depth': 50, 'min_samples_split': 5, 'min_impurity_decrease': 0.0, 'criterion': 'squared'} Loss:  0.0013334700994973843\n",
      "Params:  {'max_depth': 50, 'min_samples_split': 5, 'min_impurity_decrease': 0.01, 'criterion': 'gini'} Loss:  0.02133552159195815\n",
      "Params:  {'max_depth': 50, 'min_samples_split': 5, 'min_impurity_decrease': 0.01, 'criterion': 'scaled_entropy'} Loss:  0.0032823879372243306\n",
      "Params:  {'max_depth': 50, 'min_samples_split': 5, 'min_impurity_decrease': 0.01, 'criterion': 'squared'} Loss:  0.21756077546415017\n",
      "Params:  {'max_depth': 50, 'min_samples_split': 10, 'min_impurity_decrease': 0.0, 'criterion': 'gini'} Loss:  0.002769514822033029\n",
      "Params:  {'max_depth': 50, 'min_samples_split': 10, 'min_impurity_decrease': 0.0, 'criterion': 'scaled_entropy'} Loss:  0.0017437685916504256\n",
      "Params:  {'max_depth': 50, 'min_samples_split': 10, 'min_impurity_decrease': 0.0, 'criterion': 'squared'} Loss:  0.001538619345573905\n",
      "Params:  {'max_depth': 50, 'min_samples_split': 10, 'min_impurity_decrease': 0.01, 'criterion': 'gini'} Loss:  0.02133552159195815\n",
      "Params:  {'max_depth': 50, 'min_samples_split': 10, 'min_impurity_decrease': 0.01, 'criterion': 'scaled_entropy'} Loss:  0.0032823879372243306\n",
      "Params:  {'max_depth': 50, 'min_samples_split': 10, 'min_impurity_decrease': 0.01, 'criterion': 'squared'} Loss:  0.21756077546415017\n",
      "Params:  {'max_depth': 50, 'min_samples_split': 100, 'min_impurity_decrease': 0.0, 'criterion': 'gini'} Loss:  0.010052313057749512\n",
      "Params:  {'max_depth': 50, 'min_samples_split': 100, 'min_impurity_decrease': 0.0, 'criterion': 'scaled_entropy'} Loss:  0.008411119089137347\n",
      "Params:  {'max_depth': 50, 'min_samples_split': 100, 'min_impurity_decrease': 0.0, 'criterion': 'squared'} Loss:  0.007282798235716484\n",
      "Params:  {'max_depth': 50, 'min_samples_split': 100, 'min_impurity_decrease': 0.01, 'criterion': 'gini'} Loss:  0.02451533490614422\n",
      "Params:  {'max_depth': 50, 'min_samples_split': 100, 'min_impurity_decrease': 0.01, 'criterion': 'scaled_entropy'} Loss:  0.00933429069648169\n",
      "Params:  {'max_depth': 50, 'min_samples_split': 100, 'min_impurity_decrease': 0.01, 'criterion': 'squared'} Loss:  0.21991999179403016\n",
      "Params:  {'max_depth': None, 'min_samples_split': 2, 'min_impurity_decrease': 0.0, 'criterion': 'gini'} Loss:  0.002769514822033029\n",
      "Params:  {'max_depth': None, 'min_samples_split': 2, 'min_impurity_decrease': 0.0, 'criterion': 'scaled_entropy'} Loss:  0.001538619345573905\n",
      "Params:  {'max_depth': None, 'min_samples_split': 2, 'min_impurity_decrease': 0.0, 'criterion': 'squared'} Loss:  0.0013334700994973843\n",
      "Params:  {'max_depth': None, 'min_samples_split': 2, 'min_impurity_decrease': 0.01, 'criterion': 'gini'} Loss:  0.02133552159195815\n",
      "Params:  {'max_depth': None, 'min_samples_split': 2, 'min_impurity_decrease': 0.01, 'criterion': 'scaled_entropy'} Loss:  0.0032823879372243306\n",
      "Params:  {'max_depth': None, 'min_samples_split': 2, 'min_impurity_decrease': 0.01, 'criterion': 'squared'} Loss:  0.21756077546415017\n",
      "Params:  {'max_depth': None, 'min_samples_split': 5, 'min_impurity_decrease': 0.0, 'criterion': 'gini'} Loss:  0.002769514822033029\n",
      "Params:  {'max_depth': None, 'min_samples_split': 5, 'min_impurity_decrease': 0.0, 'criterion': 'scaled_entropy'} Loss:  0.0017437685916504256\n",
      "Params:  {'max_depth': None, 'min_samples_split': 5, 'min_impurity_decrease': 0.0, 'criterion': 'squared'} Loss:  0.0013334700994973843\n",
      "Params:  {'max_depth': None, 'min_samples_split': 5, 'min_impurity_decrease': 0.01, 'criterion': 'gini'} Loss:  0.02133552159195815\n",
      "Params:  {'max_depth': None, 'min_samples_split': 5, 'min_impurity_decrease': 0.01, 'criterion': 'scaled_entropy'} Loss:  0.0032823879372243306\n",
      "Params:  {'max_depth': None, 'min_samples_split': 5, 'min_impurity_decrease': 0.01, 'criterion': 'squared'} Loss:  0.21756077546415017\n",
      "Params:  {'max_depth': None, 'min_samples_split': 10, 'min_impurity_decrease': 0.0, 'criterion': 'gini'} Loss:  0.002769514822033029\n",
      "Params:  {'max_depth': None, 'min_samples_split': 10, 'min_impurity_decrease': 0.0, 'criterion': 'scaled_entropy'} Loss:  0.0017437685916504256\n",
      "Params:  {'max_depth': None, 'min_samples_split': 10, 'min_impurity_decrease': 0.0, 'criterion': 'squared'} Loss:  0.001538619345573905\n",
      "Params:  {'max_depth': None, 'min_samples_split': 10, 'min_impurity_decrease': 0.01, 'criterion': 'gini'} Loss:  0.02133552159195815\n",
      "Params:  {'max_depth': None, 'min_samples_split': 10, 'min_impurity_decrease': 0.01, 'criterion': 'scaled_entropy'} Loss:  0.0032823879372243306\n",
      "Params:  {'max_depth': None, 'min_samples_split': 10, 'min_impurity_decrease': 0.01, 'criterion': 'squared'} Loss:  0.21756077546415017\n",
      "Params:  {'max_depth': None, 'min_samples_split': 100, 'min_impurity_decrease': 0.0, 'criterion': 'gini'} Loss:  0.010052313057749512\n",
      "Params:  {'max_depth': None, 'min_samples_split': 100, 'min_impurity_decrease': 0.0, 'criterion': 'scaled_entropy'} Loss:  0.008411119089137347\n",
      "Params:  {'max_depth': None, 'min_samples_split': 100, 'min_impurity_decrease': 0.0, 'criterion': 'squared'} Loss:  0.007282798235716484\n",
      "Params:  {'max_depth': None, 'min_samples_split': 100, 'min_impurity_decrease': 0.01, 'criterion': 'gini'} Loss:  0.02451533490614422\n",
      "Params:  {'max_depth': None, 'min_samples_split': 100, 'min_impurity_decrease': 0.01, 'criterion': 'scaled_entropy'} Loss:  0.00933429069648169\n",
      "Params:  {'max_depth': None, 'min_samples_split': 100, 'min_impurity_decrease': 0.01, 'criterion': 'squared'} Loss:  0.21991999179403016\n"
     ]
    }
   ],
   "source": [
    "param_grid = {\n",
    "        'max_depth': [10, 20, 50, None],\n",
    "        'min_samples_split': [2, 5, 10, 100],\n",
    "        'min_impurity_decrease': [0.0, 0.01], \n",
    "        'criterion': ['gini','scaled_entropy', 'squared']\n",
    "    }\n",
    "best_tree, best_params, best_loss = hyperparameter_tuning(X_train, y_train, param_grid, 'decision_tree')"
   ]
  },
  {
   "cell_type": "code",
   "execution_count": 22,
   "metadata": {},
   "outputs": [
    {
     "name": "stdout",
     "output_type": "stream",
     "text": [
      "Params:  {'max_depth': 10, 'min_samples_split': 2, 'min_impurity_decrease': 0.01, 'criterion': 'squared'} CV Loss:  0.2753083945493423\n",
      "Params:  {'max_depth': 10, 'min_samples_split': 2, 'min_impurity_decrease': 0.0, 'criterion': 'squared'} CV Loss:  0.20037310861600535\n",
      "Params:  {'max_depth': 10, 'min_samples_split': 2, 'min_impurity_decrease': 0.01, 'criterion': 'scaled_entropy'} CV Loss:  0.1501976660328081\n",
      "Params:  {'max_depth': 10, 'min_samples_split': 2, 'min_impurity_decrease': 0.0, 'criterion': 'scaled_entropy'} CV Loss:  0.1468749257649042\n",
      "Params:  {'max_depth': 10, 'min_samples_split': 2, 'min_impurity_decrease': 0.01, 'criterion': 'gini'} CV Loss:  0.12104802438645912\n",
      "Params:  {'max_depth': 10, 'min_samples_split': 5, 'min_impurity_decrease': 0.0, 'criterion': 'scaled_entropy'} CV Loss:  0.14716177490919513\n",
      "Params:  {'max_depth': 10, 'min_samples_split': 2, 'min_impurity_decrease': 0.0, 'criterion': 'gini'} CV Loss:  0.10455531481203857\n",
      "Params:  {'max_depth': 10, 'min_samples_split': 5, 'min_impurity_decrease': 0.0, 'criterion': 'gini'} CV Loss:  0.09290430629308463\n",
      "Params:  {'max_depth': 10, 'min_samples_split': 5, 'min_impurity_decrease': 0.0, 'criterion': 'squared'} CV Loss:  0.21085525458232404\n",
      "Params:  {'max_depth': 10, 'min_samples_split': 5, 'min_impurity_decrease': 0.01, 'criterion': 'squared'} CV Loss:  0.26892876218731177\n",
      "Params:  {'max_depth': 10, 'min_samples_split': 5, 'min_impurity_decrease': 0.01, 'criterion': 'gini'} CV Loss:  0.09093630431523549\n",
      "Params:  {'max_depth': 10, 'min_samples_split': 5, 'min_impurity_decrease': 0.01, 'criterion': 'scaled_entropy'} CV Loss:  0.14143862855098877\n",
      "Params:  {'max_depth': 10, 'min_samples_split': 10, 'min_impurity_decrease': 0.0, 'criterion': 'squared'} CV Loss:  0.20480407773578352\n",
      "Params:  {'max_depth': 10, 'min_samples_split': 10, 'min_impurity_decrease': 0.0, 'criterion': 'scaled_entropy'} CV Loss:  0.14865947171439017\n",
      "Params:  {'max_depth': 10, 'min_samples_split': 10, 'min_impurity_decrease': 0.0, 'criterion': 'gini'} CV Loss:  0.11423770485335774\n",
      "Params:  {'max_depth': 10, 'min_samples_split': 10, 'min_impurity_decrease': 0.01, 'criterion': 'gini'} CV Loss:  0.10693634218894243\n",
      "Params:  {'max_depth': 10, 'min_samples_split': 10, 'min_impurity_decrease': 0.01, 'criterion': 'squared'} CV Loss:  0.27715419069937486\n",
      "Params:  {'max_depth': 10, 'min_samples_split': 10, 'min_impurity_decrease': 0.01, 'criterion': 'scaled_entropy'} CV Loss:  0.1440438703772379\n",
      "Params:  {'max_depth': 10, 'min_samples_split': 100, 'min_impurity_decrease': 0.0, 'criterion': 'squared'} CV Loss:  0.20178853531328658\n",
      "Params:  {'max_depth': 10, 'min_samples_split': 100, 'min_impurity_decrease': 0.01, 'criterion': 'squared'} CV Loss:  0.27325690208857717\n",
      "Params:  {'max_depth': 10, 'min_samples_split': 100, 'min_impurity_decrease': 0.0, 'criterion': 'scaled_entropy'} CV Loss:  0.15268011919697222\n",
      "Params:  {'max_depth': 10, 'min_samples_split': 100, 'min_impurity_decrease': 0.0, 'criterion': 'gini'} CV Loss:  0.09419664975500447\n",
      "Params:  {'max_depth': 10, 'min_samples_split': 100, 'min_impurity_decrease': 0.01, 'criterion': 'gini'} CV Loss:  0.11909915494291327\n",
      "Params:  {'max_depth': 10, 'min_samples_split': 100, 'min_impurity_decrease': 0.01, 'criterion': 'scaled_entropy'} CV Loss:  0.15423911249280003\n",
      "Params:  {'max_depth': 20, 'min_samples_split': 2, 'min_impurity_decrease': 0.01, 'criterion': 'squared'} CV Loss:  0.21871221821567496\n",
      "Params:  {'max_depth': 20, 'min_samples_split': 2, 'min_impurity_decrease': 0.0, 'criterion': 'scaled_entropy'} CV Loss:  0.006707805928813213\n",
      "Params:  {'max_depth': 20, 'min_samples_split': 2, 'min_impurity_decrease': 0.0, 'criterion': 'gini'} CV Loss:  0.004636017369302835\n",
      "Params:  {'max_depth': 20, 'min_samples_split': 2, 'min_impurity_decrease': 0.01, 'criterion': 'gini'} CV Loss:  0.01881070879064519\n",
      "Params:  {'max_depth': 20, 'min_samples_split': 2, 'min_impurity_decrease': 0.0, 'criterion': 'squared'} CV Loss:  0.020595509335605756\n",
      "Params:  {'max_depth': 20, 'min_samples_split': 2, 'min_impurity_decrease': 0.01, 'criterion': 'scaled_entropy'} CV Loss:  0.010830899684648787\n",
      "Params:  {'max_depth': 20, 'min_samples_split': 5, 'min_impurity_decrease': 0.0, 'criterion': 'scaled_entropy'} CV Loss:  0.007897591600453432\n",
      "Params:  {'max_depth': 20, 'min_samples_split': 5, 'min_impurity_decrease': 0.0, 'criterion': 'gini'} CV Loss:  0.0037128941561396173\n",
      "Params:  {'max_depth': 20, 'min_samples_split': 5, 'min_impurity_decrease': 0.01, 'criterion': 'squared'} CV Loss:  0.21725575325279908\n",
      "Params:  {'max_depth': 20, 'min_samples_split': 5, 'min_impurity_decrease': 0.0, 'criterion': 'squared'} CV Loss:  0.02010303331571154\n",
      "Params:  {'max_depth': 20, 'min_samples_split': 5, 'min_impurity_decrease': 0.01, 'criterion': 'gini'} CV Loss:  0.014420685356289006\n",
      "Params:  {'max_depth': 20, 'min_samples_split': 5, 'min_impurity_decrease': 0.01, 'criterion': 'scaled_entropy'} CV Loss:  0.0072617025809353225\n",
      "Params:  {'max_depth': 20, 'min_samples_split': 10, 'min_impurity_decrease': 0.0, 'criterion': 'scaled_entropy'} CV Loss:  0.006318087588207601\n",
      "Params:  {'max_depth': 20, 'min_samples_split': 10, 'min_impurity_decrease': 0.0, 'criterion': 'squared'} CV Loss:  0.02133361738613559\n",
      "Params:  {'max_depth': 20, 'min_samples_split': 10, 'min_impurity_decrease': 0.0, 'criterion': 'gini'} CV Loss:  0.003200056810560452\n",
      "Params:  {'max_depth': 20, 'min_samples_split': 10, 'min_impurity_decrease': 0.01, 'criterion': 'squared'} CV Loss:  0.21912262612075922\n",
      "Params:  {'max_depth': 20, 'min_samples_split': 10, 'min_impurity_decrease': 0.01, 'criterion': 'gini'} CV Loss:  0.016820843163401374\n",
      "Params:  {'max_depth': 20, 'min_samples_split': 10, 'min_impurity_decrease': 0.01, 'criterion': 'scaled_entropy'} CV Loss:  0.008328421849972779\n",
      "Params:  {'max_depth': 20, 'min_samples_split': 100, 'min_impurity_decrease': 0.01, 'criterion': 'squared'} CV Loss:  0.22217878388578974\n",
      "Params:  {'max_depth': 20, 'min_samples_split': 100, 'min_impurity_decrease': 0.0, 'criterion': 'gini'} CV Loss:  0.009374481011859205\n",
      "Params:  {'max_depth': 20, 'min_samples_split': 100, 'min_impurity_decrease': 0.0, 'criterion': 'scaled_entropy'} CV Loss:  0.01647200948946769\n",
      "Params:  {'max_depth': 20, 'min_samples_split': 100, 'min_impurity_decrease': 0.0, 'criterion': 'squared'} CV Loss:  0.027836669638700618\n",
      "Params:  {'max_depth': 20, 'min_samples_split': 100, 'min_impurity_decrease': 0.01, 'criterion': 'gini'} CV Loss:  0.021579971121298436\n",
      "Params:  {'max_depth': 20, 'min_samples_split': 100, 'min_impurity_decrease': 0.01, 'criterion': 'scaled_entropy'} CV Loss:  0.011672043154984997\n",
      "Params:  {'max_depth': 50, 'min_samples_split': 2, 'min_impurity_decrease': 0.0, 'criterion': 'gini'} CV Loss:  0.0014359163727509197\n",
      "Params:  {'max_depth': 50, 'min_samples_split': 2, 'min_impurity_decrease': 0.0, 'criterion': 'scaled_entropy'} CV Loss:  0.0014154077604277625\n",
      "Params:  {'max_depth': 50, 'min_samples_split': 2, 'min_impurity_decrease': 0.01, 'criterion': 'squared'} CV Loss:  0.2125580753844576\n",
      "Params:  {'max_depth': 50, 'min_samples_split': 2, 'min_impurity_decrease': 0.01, 'criterion': 'gini'} CV Loss:  0.015220817914263395\n",
      "Params:  {'max_depth': 50, 'min_samples_split': 2, 'min_impurity_decrease': 0.0, 'criterion': 'squared'} CV Loss:  0.0015384952039788433\n",
      "Params:  {'max_depth': 50, 'min_samples_split': 2, 'min_impurity_decrease': 0.01, 'criterion': 'scaled_entropy'} CV Loss:  0.0026257083566756352\n",
      "Params:  {'max_depth': 50, 'min_samples_split': 5, 'min_impurity_decrease': 0.0, 'criterion': 'scaled_entropy'} CV Loss:  0.0017231190049735543\n",
      "Params:  {'max_depth': 50, 'min_samples_split': 5, 'min_impurity_decrease': 0.0, 'criterion': 'gini'} CV Loss:  0.0014564397137378983\n",
      "Params:  {'max_depth': 50, 'min_samples_split': 5, 'min_impurity_decrease': 0.01, 'criterion': 'squared'} CV Loss:  0.21278394575643525\n",
      "Params:  {'max_depth': 50, 'min_samples_split': 5, 'min_impurity_decrease': 0.01, 'criterion': 'gini'} CV Loss:  0.018174807146558097\n",
      "Params:  {'max_depth': 50, 'min_samples_split': 5, 'min_impurity_decrease': 0.0, 'criterion': 'squared'} CV Loss:  0.001559001712207169\n",
      "Params:  {'max_depth': 50, 'min_samples_split': 5, 'min_impurity_decrease': 0.01, 'criterion': 'scaled_entropy'} CV Loss:  0.002379529261383811\n",
      "Params:  {'max_depth': 50, 'min_samples_split': 10, 'min_impurity_decrease': 0.0, 'criterion': 'scaled_entropy'} CV Loss:  0.0019282451060069275\n",
      "Params:  {'max_depth': 50, 'min_samples_split': 10, 'min_impurity_decrease': 0.0, 'criterion': 'gini'} CV Loss:  0.0018051660788351732\n",
      "Params:  {'max_depth': 50, 'min_samples_split': 10, 'min_impurity_decrease': 0.01, 'criterion': 'squared'} CV Loss:  0.2123531239232952\n",
      "Params:  {'max_depth': 50, 'min_samples_split': 10, 'min_impurity_decrease': 0.01, 'criterion': 'gini'} CV Loss:  0.015938810818203576\n",
      "Params:  {'max_depth': 50, 'min_samples_split': 10, 'min_impurity_decrease': 0.0, 'criterion': 'squared'} CV Loss:  0.001948768446993906\n",
      "Params:  {'max_depth': 50, 'min_samples_split': 10, 'min_impurity_decrease': 0.01, 'criterion': 'scaled_entropy'} CV Loss:  0.0022974779793325283\n",
      "Params:  {'max_depth': 50, 'min_samples_split': 100, 'min_impurity_decrease': 0.0, 'criterion': 'scaled_entropy'} CV Loss:  0.008246324277835202\n",
      "Params:  {'max_depth': 50, 'min_samples_split': 100, 'min_impurity_decrease': 0.0, 'criterion': 'gini'} CV Loss:  0.00949765682739321\n",
      "Params:  {'max_depth': 50, 'min_samples_split': 100, 'min_impurity_decrease': 0.01, 'criterion': 'squared'} CV Loss:  0.2146916233354637\n",
      "Params:  {'max_depth': 50, 'min_samples_split': 100, 'min_impurity_decrease': 0.01, 'criterion': 'gini'} CV Loss:  0.022174805042463264\n",
      "Params:  {'max_depth': 50, 'min_samples_split': 100, 'min_impurity_decrease': 0.0, 'criterion': 'squared'} CV Loss:  0.006892484436273542\n",
      "Params:  {'max_depth': 50, 'min_samples_split': 100, 'min_impurity_decrease': 0.01, 'criterion': 'scaled_entropy'} CV Loss:  0.008328343998464011\n",
      "Params:  {'max_depth': None, 'min_samples_split': 2, 'min_impurity_decrease': 0.0, 'criterion': 'gini'} CV Loss:  0.0015590185449658217\n",
      "Params:  {'max_depth': None, 'min_samples_split': 2, 'min_impurity_decrease': 0.0, 'criterion': 'scaled_entropy'} CV Loss:  0.0019282472101017592\n",
      "Params:  {'max_depth': None, 'min_samples_split': 2, 'min_impurity_decrease': 0.01, 'criterion': 'squared'} CV Loss:  0.21200435758039612\n",
      "Params:  {'max_depth': None, 'min_samples_split': 2, 'min_impurity_decrease': 0.01, 'criterion': 'gini'} CV Loss:  0.014933657363937394\n",
      "Params:  {'max_depth': None, 'min_samples_split': 2, 'min_impurity_decrease': 0.0, 'criterion': 'squared'} CV Loss:  0.0013128604906223124\n",
      "Params:  {'max_depth': None, 'min_samples_split': 2, 'min_impurity_decrease': 0.01, 'criterion': 'scaled_entropy'} CV Loss:  0.0022769840956731917\n",
      "Params:  {'max_depth': None, 'min_samples_split': 5, 'min_impurity_decrease': 0.0, 'criterion': 'scaled_entropy'} CV Loss:  0.0016410635147326093\n",
      "Params:  {'max_depth': None, 'min_samples_split': 5, 'min_impurity_decrease': 0.0, 'criterion': 'gini'} CV Loss:  0.0012307881676227148\n",
      "Params:  {'max_depth': None, 'min_samples_split': 5, 'min_impurity_decrease': 0.01, 'criterion': 'squared'} CV Loss:  0.21249672629145397\n",
      "Params:  {'max_depth': None, 'min_samples_split': 5, 'min_impurity_decrease': 0.01, 'criterion': 'gini'} CV Loss:  0.017374744023713147\n",
      "Params:  {'max_depth': None, 'min_samples_split': 5, 'min_impurity_decrease': 0.01, 'criterion': 'scaled_entropy'} CV Loss:  0.002153898756216943\n",
      "Params:  {'max_depth': None, 'min_samples_split': 5, 'min_impurity_decrease': 0.0, 'criterion': 'squared'} CV Loss:  0.0016205549024094518\n",
      "Params:  {'max_depth': None, 'min_samples_split': 10, 'min_impurity_decrease': 0.0, 'criterion': 'gini'} CV Loss:  0.001148734781476601\n",
      "Params:  {'max_depth': None, 'min_samples_split': 10, 'min_impurity_decrease': 0.0, 'criterion': 'scaled_entropy'} CV Loss:  0.0018051702870248362\n",
      "Params:  {'max_depth': None, 'min_samples_split': 10, 'min_impurity_decrease': 0.01, 'criterion': 'squared'} CV Loss:  0.21225042936685154\n",
      "Params:  {'max_depth': None, 'min_samples_split': 10, 'min_impurity_decrease': 0.01, 'criterion': 'gini'} CV Loss:  0.015877205025630507\n",
      "Params:  {'max_depth': None, 'min_samples_split': 10, 'min_impurity_decrease': 0.0, 'criterion': 'squared'} CV Loss:  0.001559012232681327\n",
      "Params:  {'max_depth': None, 'min_samples_split': 10, 'min_impurity_decrease': 0.01, 'criterion': 'scaled_entropy'} CV Loss:  0.002625683107537657\n",
      "Params:  {'max_depth': None, 'min_samples_split': 100, 'min_impurity_decrease': 0.0, 'criterion': 'scaled_entropy'} CV Loss:  0.007733489036350868\n",
      "Params:  {'max_depth': None, 'min_samples_split': 100, 'min_impurity_decrease': 0.0, 'criterion': 'gini'} CV Loss:  0.009887436186748935\n",
      "Params:  {'max_depth': None, 'min_samples_split': 100, 'min_impurity_decrease': 0.01, 'criterion': 'squared'} CV Loss:  0.2147325500840323\n",
      "Params:  {'max_depth': None, 'min_samples_split': 100, 'min_impurity_decrease': 0.01, 'criterion': 'gini'} CV Loss:  0.02104652627093903\n",
      "Params:  {'max_depth': None, 'min_samples_split': 100, 'min_impurity_decrease': 0.0, 'criterion': 'squared'} CV Loss:  0.00660525655491293\n",
      "Params:  {'max_depth': None, 'min_samples_split': 100, 'min_impurity_decrease': 0.01, 'criterion': 'scaled_entropy'} CV Loss:  0.007979651298884042\n"
     ]
    }
   ],
   "source": [
    "best_tree_cv, best_params_cv, best_loss_cv = hyperparameter_tuning_cv(X_train, y_train, param_grid, cv=5)"
   ]
  },
  {
   "cell_type": "code",
   "execution_count": 23,
   "metadata": {},
   "outputs": [
    {
     "name": "stdout",
     "output_type": "stream",
     "text": [
      "Best hyperparameters: {'max_depth': 50, 'min_samples_split': 2, 'min_impurity_decrease': 0.0, 'criterion': 'squared'}, loss: 0.0013334700994973843\n",
      "Best hyperparameters CV: {'max_depth': None, 'min_samples_split': 10, 'min_impurity_decrease': 0.0, 'criterion': 'gini'}, loss: 0.001148734781476601\n"
     ]
    }
   ],
   "source": [
    "print(f\"Best hyperparameters: {best_params}, loss: {best_loss}\")\n",
    "print(f\"Best hyperparameters CV: {best_params_cv}, loss: {best_loss_cv}\")"
   ]
  },
  {
   "cell_type": "code",
   "execution_count": 24,
   "metadata": {},
   "outputs": [
    {
     "name": "stdout",
     "output_type": "stream",
     "text": [
      "Importance with no hyperparameter tuning\n",
      "Feature importance:\n",
      "cap-surface: 0.19054768548614845\n",
      "gill-color: 0.15475785742329431\n",
      "cap-diameter: 0.10410201859123083\n",
      "gill-attachment: 0.08784500548377976\n",
      "stem-width: 0.07690034898770039\n",
      "cap-shape: 0.07000264516391526\n",
      "cap-color: 0.06845584638383609\n",
      "stem-surface: 0.059290572615234856\n",
      "stem-height: 0.04989642209834991\n",
      "stem-color: 0.04433401538554294\n",
      "does-bruise-or-bleed: 0.04001201221851434\n",
      "gill-spacing: 0.01606919712313773\n",
      "ring-type: 0.013497422148926042\n",
      "season: 0.011858223491005222\n",
      "has-ring: 0.009418206122058\n",
      "habitat: 0.003012521277325781\n",
      "--------------------------------------------------\n",
      "Importance with CV hyperparameter tuning\n",
      "Feature importance:\n",
      "cap-surface: 0.19784932189058882\n",
      "gill-attachment: 0.15728065709784309\n",
      "cap-shape: 0.12008198669798736\n",
      "stem-width: 0.08272328723447556\n",
      "stem-color: 0.07854391522571917\n",
      "stem-height: 0.06974836968711552\n",
      "cap-color: 0.06950213109331155\n",
      "cap-diameter: 0.057785190284691104\n",
      "gill-color: 0.054681932359380764\n",
      "habitat: 0.02439191428410316\n",
      "stem-surface: 0.01999885887584033\n",
      "ring-type: 0.01992678399155255\n",
      "does-bruise-or-bleed: 0.016130314522996306\n",
      "gill-spacing: 0.016035444565824147\n",
      "has-ring: 0.01406413584464987\n",
      "season: 0.001255756343920589\n"
     ]
    }
   ],
   "source": [
    "print(\"Importance with no hyperparameter tuning\")\n",
    "best_tree.draw_tree(\"tuned_tree\")\n",
    "best_tree.print_importance()\n",
    "print(\"-\"*50)\n",
    "print(\"Importance with CV hyperparameter tuning\")\n",
    "best_tree_cv.draw_tree(\"tuned_tree_cv\")\n",
    "best_tree_cv.print_importance()"
   ]
  },
  {
   "cell_type": "code",
   "execution_count": 25,
   "metadata": {},
   "outputs": [
    {
     "name": "stdout",
     "output_type": "stream",
     "text": [
      "Normal hyperparameter tuning\n",
      "0-1 Loss: 0.0019651191353475803\n",
      "Accuracy: 0.9980348808646524\n",
      "Precision: 0.9979256186101645\n",
      "Recall: 0.9985174203113417\n",
      "F1 Score: 0.9982214317474433\n",
      "Confusion Matriy_pred:\n",
      "[[6735   14]\n",
      " [  10 5454]]\n",
      "--------------------------------------------------\n",
      "Cross-validated hyperparameter tuning\n",
      "0-1 Loss: 0.0015557193154835012\n",
      "Accuracy: 0.9984442806845165\n",
      "Precision: 0.9983698873740368\n",
      "Recall: 0.9988139362490734\n",
      "F1 Score: 0.9985918624471948\n",
      "Confusion Matriy_pred:\n",
      "[[6737   11]\n",
      " [   8 5457]]\n"
     ]
    }
   ],
   "source": [
    "y_pred = best_tree.predict(X_test)\n",
    "print(\"Normal hyperparameter tuning\")\n",
    "print_report(y_test, y_pred, \"poisonous\")\n",
    "print(\"-\"*50)\n",
    "print(\"Cross-validated hyperparameter tuning\")\n",
    "y_pred = best_tree_cv.predict(X_test)\n",
    "print_report(y_test, y_pred, \"poisonous\")"
   ]
  },
  {
   "cell_type": "code",
   "execution_count": 26,
   "metadata": {},
   "outputs": [
    {
     "name": "stdout",
     "output_type": "stream",
     "text": [
      "Criterion: gini\n",
      "0-1 Loss: 0.0015557193154835012\n",
      "Accuracy: 0.9984442806845165\n",
      "Precision: 0.9983698873740368\n",
      "Recall: 0.9988139362490734\n",
      "F1 Score: 0.9985918624471948\n",
      "Confusion Matriy_pred:\n",
      "[[6737   11]\n",
      " [   8 5457]]\n",
      "--------------------------------------------------\n",
      "Criterion: scaled_entropy\n",
      "0-1 Loss: 0.0018013592074019487\n",
      "Accuracy: 0.998198640792598\n",
      "Precision: 0.9974840905727393\n",
      "Recall: 0.9992587101556709\n",
      "F1 Score: 0.9983706117612207\n",
      "Confusion Matriy_pred:\n",
      "[[6740   17]\n",
      " [   5 5451]]\n",
      "--------------------------------------------------\n",
      "Criterion: squared\n",
      "0-1 Loss: 0.0018832391713747645\n",
      "Accuracy: 0.9981167608286252\n",
      "Precision: 0.9980735032602253\n",
      "Recall: 0.9985174203113417\n",
      "F1 Score: 0.9982954124360779\n",
      "Confusion Matriy_pred:\n",
      "[[6735   13]\n",
      " [  10 5455]]\n",
      "--------------------------------------------------\n"
     ]
    }
   ],
   "source": [
    "# Let's see the best criterion with the best hyperparameters\n",
    "max_depth = best_params_cv['max_depth']\n",
    "min_samples_split = best_params_cv['min_samples_split']\n",
    "min_impurity_decrease = best_params_cv['min_impurity_decrease']\n",
    "criterions = ['gini','scaled_entropy', 'squared']\n",
    "\n",
    "for criterion in criterions:\n",
    "    tree = DecisionTree(max_depth=max_depth, min_samples_split=min_samples_split, min_impurity_decrease=min_impurity_decrease, criterion=criterion)\n",
    "    tree.fit(X_train, y_train)\n",
    "    y_pred = tree.predict(X_test)\n",
    "    print(f\"Criterion: {criterion}\")\n",
    "    print_report(y_test, y_pred, \"poisonous\")\n",
    "    print(\"-\"*50)"
   ]
  },
  {
   "cell_type": "code",
   "execution_count": 27,
   "metadata": {},
   "outputs": [],
   "source": [
    "rf = RandomForest(n_trees=10, max_depth=5, max_features='sqrt')\n",
    "rf.fit(X_train, y_train)"
   ]
  },
  {
   "cell_type": "code",
   "execution_count": 28,
   "metadata": {},
   "outputs": [
    {
     "name": "stdout",
     "output_type": "stream",
     "text": [
      "0-1 Loss: 0.19511995414722016\n",
      "Accuracy: 0.8048800458527798\n",
      "Precision: 0.8318624467437614\n",
      "Recall: 0.8105263157894737\n",
      "F1 Score: 0.8210557933468499\n",
      "Confusion Matriy_pred:\n",
      "[[5467 1105]\n",
      " [1278 4363]]\n"
     ]
    }
   ],
   "source": [
    "y_pred = rf.predict(X_test)\n",
    "print_report(y_test, y_pred, \"poisonous\")"
   ]
  },
  {
   "cell_type": "code",
   "execution_count": 29,
   "metadata": {},
   "outputs": [
    {
     "name": "stdout",
     "output_type": "stream",
     "text": [
      "Feature importance:\n",
      "cap-surface: 0.11608795357013302\n",
      "cap-diameter: 0.10686154333112832\n",
      "cap-color: 0.10652583609330928\n",
      "gill-spacing: 0.10425050229163406\n",
      "ring-type: 0.09124949213207399\n",
      "stem-height: 0.08080558739857478\n",
      "season: 0.07016097706614377\n",
      "habitat: 0.06436745817165582\n",
      "stem-width: 0.06426728334742586\n",
      "stem-surface: 0.05962852346470865\n",
      "does-bruise-or-bleed: 0.055198704102553876\n",
      "gill-color: 0.0328412150771587\n",
      "stem-color: 0.018040669765313155\n",
      "has-ring: 0.014248700046288634\n",
      "cap-shape: 0.007940061700585855\n",
      "gill-attachment: 0.007525492441312213\n"
     ]
    }
   ],
   "source": [
    "rf.print_importance()"
   ]
  },
  {
   "cell_type": "code",
   "execution_count": 30,
   "metadata": {},
   "outputs": [
    {
     "name": "stdout",
     "output_type": "stream",
     "text": [
      "Params:  {'n_trees': 10, 'max_depth': 5, 'min_samples_split': 2, 'min_impurity_decrease': 0.0, 'criterion': 'gini', 'max_features': 'log2'} Loss:  0.24033234177864396\n",
      "Params:  {'n_trees': 10, 'max_depth': 5, 'min_samples_split': 2, 'min_impurity_decrease': 0.0, 'criterion': 'gini', 'max_features': 'sqrt'} Loss:  0.19643040311826854\n",
      "Params:  {'n_trees': 10, 'max_depth': 5, 'min_samples_split': 2, 'min_impurity_decrease': 0.01, 'criterion': 'gini', 'max_features': 'log2'} Loss:  0.23058775259000924\n",
      "Params:  {'n_trees': 10, 'max_depth': 5, 'min_samples_split': 2, 'min_impurity_decrease': 0.01, 'criterion': 'gini', 'max_features': 'sqrt'} Loss:  0.24217868499333264\n",
      "Params:  {'n_trees': 10, 'max_depth': 5, 'min_samples_split': 50, 'min_impurity_decrease': 0.0, 'criterion': 'gini', 'max_features': 'log2'} Loss:  0.2239204020925223\n",
      "Params:  {'n_trees': 10, 'max_depth': 5, 'min_samples_split': 50, 'min_impurity_decrease': 0.0, 'criterion': 'gini', 'max_features': 'sqrt'} Loss:  0.22556159606113446\n",
      "Params:  {'n_trees': 10, 'max_depth': 5, 'min_samples_split': 50, 'min_impurity_decrease': 0.01, 'criterion': 'gini', 'max_features': 'log2'} Loss:  0.4034259924094779\n",
      "Params:  {'n_trees': 10, 'max_depth': 5, 'min_samples_split': 50, 'min_impurity_decrease': 0.01, 'criterion': 'gini', 'max_features': 'sqrt'} Loss:  0.2765411837111499\n",
      "Params:  {'n_trees': 10, 'max_depth': 10, 'min_samples_split': 2, 'min_impurity_decrease': 0.0, 'criterion': 'gini', 'max_features': 'log2'} Loss:  0.12462816699148631\n",
      "Params:  {'n_trees': 10, 'max_depth': 10, 'min_samples_split': 2, 'min_impurity_decrease': 0.0, 'criterion': 'gini', 'max_features': 'sqrt'} Loss:  0.1326289875884706\n",
      "Params:  {'n_trees': 10, 'max_depth': 10, 'min_samples_split': 2, 'min_impurity_decrease': 0.01, 'criterion': 'gini', 'max_features': 'log2'} Loss:  0.2089445071289363\n",
      "Params:  {'n_trees': 10, 'max_depth': 10, 'min_samples_split': 2, 'min_impurity_decrease': 0.01, 'criterion': 'gini', 'max_features': 'sqrt'} Loss:  0.35726741204226076\n",
      "Params:  {'n_trees': 10, 'max_depth': 10, 'min_samples_split': 50, 'min_impurity_decrease': 0.0, 'criterion': 'gini', 'max_features': 'log2'} Loss:  0.10390809313775771\n",
      "Params:  {'n_trees': 10, 'max_depth': 10, 'min_samples_split': 50, 'min_impurity_decrease': 0.0, 'criterion': 'gini', 'max_features': 'sqrt'} Loss:  0.11088316750435942\n",
      "Params:  {'n_trees': 10, 'max_depth': 10, 'min_samples_split': 50, 'min_impurity_decrease': 0.01, 'criterion': 'gini', 'max_features': 'log2'} Loss:  0.32105857010975486\n",
      "Params:  {'n_trees': 10, 'max_depth': 10, 'min_samples_split': 50, 'min_impurity_decrease': 0.01, 'criterion': 'gini', 'max_features': 'sqrt'} Loss:  0.25233357267412043\n",
      "Params:  {'n_trees': 20, 'max_depth': 5, 'min_samples_split': 2, 'min_impurity_decrease': 0.0, 'criterion': 'gini', 'max_features': 'log2'} Loss:  0.18504461996102164\n",
      "Params:  {'n_trees': 20, 'max_depth': 5, 'min_samples_split': 2, 'min_impurity_decrease': 0.0, 'criterion': 'gini', 'max_features': 'sqrt'} Loss:  0.20863678325982152\n",
      "Params:  {'n_trees': 20, 'max_depth': 5, 'min_samples_split': 2, 'min_impurity_decrease': 0.01, 'criterion': 'gini', 'max_features': 'log2'} Loss:  0.2503846548363935\n",
      "Params:  {'n_trees': 20, 'max_depth': 5, 'min_samples_split': 2, 'min_impurity_decrease': 0.01, 'criterion': 'gini', 'max_features': 'sqrt'} Loss:  0.25017950559031693\n",
      "Params:  {'n_trees': 20, 'max_depth': 5, 'min_samples_split': 50, 'min_impurity_decrease': 0.0, 'criterion': 'gini', 'max_features': 'log2'} Loss:  0.20627756692994154\n",
      "Params:  {'n_trees': 20, 'max_depth': 5, 'min_samples_split': 50, 'min_impurity_decrease': 0.0, 'criterion': 'gini', 'max_features': 'sqrt'} Loss:  0.18883988101343727\n",
      "Params:  {'n_trees': 20, 'max_depth': 5, 'min_samples_split': 50, 'min_impurity_decrease': 0.01, 'criterion': 'gini', 'max_features': 'log2'} Loss:  0.26279618422402296\n",
      "Params:  {'n_trees': 20, 'max_depth': 5, 'min_samples_split': 50, 'min_impurity_decrease': 0.01, 'criterion': 'gini', 'max_features': 'sqrt'} Loss:  0.2288439839983588\n",
      "Params:  {'n_trees': 20, 'max_depth': 10, 'min_samples_split': 2, 'min_impurity_decrease': 0.0, 'criterion': 'gini', 'max_features': 'log2'} Loss:  0.08318801928402914\n",
      "Params:  {'n_trees': 20, 'max_depth': 10, 'min_samples_split': 2, 'min_impurity_decrease': 0.0, 'criterion': 'gini', 'max_features': 'sqrt'} Loss:  0.06893014668171095\n",
      "Params:  {'n_trees': 20, 'max_depth': 10, 'min_samples_split': 2, 'min_impurity_decrease': 0.01, 'criterion': 'gini', 'max_features': 'log2'} Loss:  0.1487332034054775\n",
      "Params:  {'n_trees': 20, 'max_depth': 10, 'min_samples_split': 2, 'min_impurity_decrease': 0.01, 'criterion': 'gini', 'max_features': 'sqrt'} Loss:  0.19868704482511026\n",
      "Params:  {'n_trees': 20, 'max_depth': 10, 'min_samples_split': 50, 'min_impurity_decrease': 0.0, 'criterion': 'gini', 'max_features': 'log2'} Loss:  0.10175402605395426\n",
      "Params:  {'n_trees': 20, 'max_depth': 10, 'min_samples_split': 50, 'min_impurity_decrease': 0.0, 'criterion': 'gini', 'max_features': 'sqrt'} Loss:  0.07641809416350395\n",
      "Params:  {'n_trees': 20, 'max_depth': 10, 'min_samples_split': 50, 'min_impurity_decrease': 0.01, 'criterion': 'gini', 'max_features': 'log2'} Loss:  0.24115293876295005\n",
      "Params:  {'n_trees': 20, 'max_depth': 10, 'min_samples_split': 50, 'min_impurity_decrease': 0.01, 'criterion': 'gini', 'max_features': 'sqrt'} Loss:  0.22012514104010666\n"
     ]
    }
   ],
   "source": [
    "# Just to see if hyperparameter tuning works also for random forests. With true hyperparameter tuning we should get better results but it takes a lot of time\n",
    "param_grid = {\n",
    "    'n_trees': [10,20],\n",
    "    'max_depth': [5, 10],\n",
    "    'min_samples_split': [2, 50],\n",
    "    'min_impurity_decrease': [0.0, 0.01],\n",
    "    'criterion': ['gini'],\n",
    "    'max_features': ['log2', 'sqrt']\n",
    "}\n",
    "best_rf, best_params_rf, best_loss_rf = hyperparameter_tuning(X_train, y_train, param_grid, model=\"random_forest\")\n",
    "# with CV it takes a lot of time"
   ]
  },
  {
   "cell_type": "code",
   "execution_count": 31,
   "metadata": {},
   "outputs": [
    {
     "name": "stdout",
     "output_type": "stream",
     "text": [
      "Best hyperparameters: {'n_trees': 20, 'max_depth': 10, 'min_samples_split': 2, 'min_impurity_decrease': 0.0, 'criterion': 'gini', 'max_features': 'sqrt'}, loss: 0.06893014668171095\n"
     ]
    }
   ],
   "source": [
    "print(f\"Best hyperparameters: {best_params_rf}, loss: {best_loss_rf}\")"
   ]
  },
  {
   "cell_type": "code",
   "execution_count": 32,
   "metadata": {},
   "outputs": [
    {
     "name": "stdout",
     "output_type": "stream",
     "text": [
      "0-1 Loss: 0.12257430606730534\n",
      "Accuracy: 0.8774256939326947\n",
      "Precision: 0.8428272798536712\n",
      "Recall: 0.956412157153447\n",
      "F1 Score: 0.8960344468365858\n",
      "Confusion Matriy_pred:\n",
      "[[6451 1203]\n",
      " [ 294 4265]]\n"
     ]
    }
   ],
   "source": [
    "y_pred = best_rf.predict(X_test)\n",
    "print_report(y_test, y_pred, \"poisonous\")"
   ]
  },
  {
   "cell_type": "code",
   "execution_count": 33,
   "metadata": {},
   "outputs": [],
   "source": [
    "rf = RandomForest(n_trees=200,max_depth=None, min_samples_split=10, min_impurity_decrease=0.0, criterion='gini', max_features='sqrt')\n",
    "rf.fit(X_train, y_train)"
   ]
  },
  {
   "cell_type": "code",
   "execution_count": 34,
   "metadata": {},
   "outputs": [
    {
     "name": "stdout",
     "output_type": "stream",
     "text": [
      "Feature importance:\n",
      "cap-diameter: 0.191468393282489\n",
      "stem-height: 0.1783848049920026\n",
      "stem-width: 0.17659822642173123\n",
      "cap-surface: 0.061109218043501355\n",
      "gill-attachment: 0.050653850228492565\n",
      "gill-color: 0.048356176924810985\n",
      "habitat: 0.04311472057315931\n",
      "cap-color: 0.042772389315503\n",
      "season: 0.03762599863438814\n",
      "cap-shape: 0.03619951417759001\n",
      "ring-type: 0.031753849770119226\n",
      "stem-color: 0.031666258741947\n",
      "stem-surface: 0.021136668269933198\n",
      "has-ring: 0.017564676866597573\n",
      "does-bruise-or-bleed: 0.016317777979265088\n",
      "gill-spacing: 0.01527747577846988\n"
     ]
    }
   ],
   "source": [
    "rf.print_importance()"
   ]
  },
  {
   "cell_type": "code",
   "execution_count": 35,
   "metadata": {},
   "outputs": [
    {
     "name": "stdout",
     "output_type": "stream",
     "text": [
      "0-1 Loss: 0.013346434127568984\n",
      "Accuracy: 0.986653565872431\n",
      "Precision: 0.9845406360424028\n",
      "Recall: 0.991401037805782\n",
      "F1 Score: 0.9879589273842061\n",
      "Confusion Matriy_pred:\n",
      "[[6687  105]\n",
      " [  58 5363]]\n"
     ]
    }
   ],
   "source": [
    "y_pred = rf.predict(X_test)\n",
    "print_report(y_test, y_pred, \"poisonous\")"
   ]
  }
 ],
 "metadata": {
  "kernelspec": {
   "display_name": "base",
   "language": "python",
   "name": "python3"
  },
  "language_info": {
   "codemirror_mode": {
    "name": "ipython",
    "version": 3
   },
   "file_extension": ".py",
   "mimetype": "text/x-python",
   "name": "python",
   "nbconvert_exporter": "python",
   "pygments_lexer": "ipython3",
   "version": "3.11.5"
  }
 },
 "nbformat": 4,
 "nbformat_minor": 2
}
